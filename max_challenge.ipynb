{
 "cells": [
  {
   "cell_type": "markdown",
   "metadata": {},
   "source": [
    "Lust auf eine kleine Challenge? Müsste genau zu dem passen was du gerade in Python machst. Habe ich gerade in R gemacht. Dachte das geht mega schnell, habe deutlich länger dran getüffelt als gedacht 😂 \n",
    "\n",
    "Aufgabe ist einfach: Schreibe eine Funktion, die für eine beliebige Nummer N alle Primzahlen (ganze Zahl, die größer als 1 und nur durch 1 und sich selbst teilbar ist) bis dahin auswirft.\n",
    "\n",
    "Beispiel: primefinder(10) mit Output 2,3,5,7\n",
    "\n",
    "Also natürlich nur wenn du Lust hast - aber ne gute Übung für Loops und Conditionals 😂"
   ]
  },
  {
   "cell_type": "code",
   "execution_count": 124,
   "metadata": {},
   "outputs": [
    {
     "data": {
      "text/plain": [
       "[2,\n",
       " 3,\n",
       " 5,\n",
       " 7,\n",
       " 11,\n",
       " 13,\n",
       " 17,\n",
       " 19,\n",
       " 23,\n",
       " 29,\n",
       " 31,\n",
       " 37,\n",
       " 41,\n",
       " 43,\n",
       " 47,\n",
       " 53,\n",
       " 59,\n",
       " 61,\n",
       " 67,\n",
       " 71,\n",
       " 73,\n",
       " 79,\n",
       " 83,\n",
       " 89,\n",
       " 97]"
      ]
     },
     "execution_count": 124,
     "metadata": {},
     "output_type": "execute_result"
    }
   ],
   "source": [
    "### working solution ###\n",
    "\n",
    "def findprimes(num):\n",
    "    prime_list = []\n",
    "    for num in range(2,num):\n",
    "      flag = True\n",
    "      for i in range(2, num):\n",
    "            if (num % i) == 0:\n",
    "                 flag = False         \n",
    "      if flag:\n",
    "         prime_list += [num]\n",
    "    return prime_list\n",
    "\n",
    "findprimes(100)\n"
   ]
  },
  {
   "cell_type": "markdown",
   "metadata": {},
   "source": [
    "My poor previous tries:"
   ]
  },
  {
   "cell_type": "code",
   "execution_count": 26,
   "metadata": {},
   "outputs": [
    {
     "ename": "TypeError",
     "evalue": "'int' object is not iterable",
     "output_type": "error",
     "traceback": [
      "\u001b[0;31m---------------------------------------------------------------------------\u001b[0m",
      "\u001b[0;31mTypeError\u001b[0m                                 Traceback (most recent call last)",
      "Cell \u001b[0;32mIn [26], line 12\u001b[0m\n\u001b[1;32m      8\u001b[0m     temp_p \u001b[38;5;241m+\u001b[39m\u001b[38;5;241m=\u001b[39m x\n\u001b[1;32m      9\u001b[0m     \u001b[38;5;28;01mreturn\u001b[39;00m temp_p\n\u001b[0;32m---> 12\u001b[0m \u001b[38;5;28mprint\u001b[39m(primefinder(\u001b[38;5;241m10\u001b[39m))\n",
      "Cell \u001b[0;32mIn [26], line 7\u001b[0m, in \u001b[0;36mprimefinder\u001b[0;34m(x)\u001b[0m\n\u001b[1;32m      5\u001b[0m \u001b[38;5;28;01mfor\u001b[39;00m i \u001b[38;5;129;01min\u001b[39;00m \u001b[38;5;28mrange\u001b[39m(x):\n\u001b[1;32m      6\u001b[0m     \u001b[38;5;28;01mif\u001b[39;00m i \u001b[38;5;241m>\u001b[39m \u001b[38;5;241m1\u001b[39m \u001b[38;5;129;01mand\u001b[39;00m i\u001b[38;5;241m%\u001b[39mi\u001b[38;5;241m==\u001b[39m\u001b[38;5;241m0\u001b[39m \u001b[38;5;129;01mand\u001b[39;00m \u001b[38;5;28misinstance\u001b[39m(i, \u001b[38;5;28mint\u001b[39m) \u001b[38;5;129;01mis\u001b[39;00m \u001b[38;5;28;01mTrue\u001b[39;00m:\n\u001b[0;32m----> 7\u001b[0m         temp_p \u001b[38;5;241m+\u001b[39m\u001b[38;5;241m=\u001b[39m i\n\u001b[1;32m      8\u001b[0m temp_p \u001b[38;5;241m+\u001b[39m\u001b[38;5;241m=\u001b[39m x\n\u001b[1;32m      9\u001b[0m \u001b[38;5;28;01mreturn\u001b[39;00m temp_p\n",
      "\u001b[0;31mTypeError\u001b[0m: 'int' object is not iterable"
     ]
    }
   ],
   "source": [
    "###\n",
    "\n",
    "def primefinder(x):\n",
    "    temp_p = []\n",
    "    for i in range(x):\n",
    "        if i > 1 and i%i==0 and isinstance(i, int) is True:\n",
    "            temp_p += i\n",
    "    temp_p += x\n",
    "    return temp_p\n",
    "\n",
    "\n",
    "print(primefinder(10))"
   ]
  },
  {
   "cell_type": "code",
   "execution_count": 98,
   "metadata": {},
   "outputs": [],
   "source": [
    "flag = False\n",
    "\n",
    "def primefinder(x):\n",
    "    temp_p = []\n",
    "    for num in range(x):\n",
    "        if num > 1 and isinstance(num, int) is True:\n",
    "            for i in range(2, x):\n",
    "                if (num%i)==0:\n",
    "                    flag = True\n",
    "                    break\n",
    "            if flag == False:\n",
    "                print(num)\n",
    "    return \n",
    "\n",
    "\n",
    "primefinder(10)"
   ]
  },
  {
   "cell_type": "code",
   "execution_count": 100,
   "metadata": {},
   "outputs": [
    {
     "name": "stdout",
     "output_type": "stream",
     "text": [
      "2\n",
      "3\n",
      "5\n",
      "7\n",
      "11\n",
      "13\n",
      "17\n",
      "19\n",
      "23\n",
      "29\n",
      "31\n",
      "37\n",
      "41\n",
      "43\n",
      "47\n",
      "53\n",
      "59\n",
      "61\n",
      "67\n",
      "71\n",
      "73\n",
      "79\n",
      "83\n",
      "89\n",
      "97\n"
     ]
    }
   ],
   "source": [
    "for num in range(2,101):\n",
    "    prime = True\n",
    "    for i in range(2,num):\n",
    "        if (num%i==0):\n",
    "            prime = False\n",
    "    if prime:\n",
    "       print (num)"
   ]
  }
 ],
 "metadata": {
  "kernelspec": {
   "display_name": "Python 3.8.9 64-bit",
   "language": "python",
   "name": "python3"
  },
  "language_info": {
   "codemirror_mode": {
    "name": "ipython",
    "version": 3
   },
   "file_extension": ".py",
   "mimetype": "text/x-python",
   "name": "python",
   "nbconvert_exporter": "python",
   "pygments_lexer": "ipython3",
   "version": "3.8.9"
  },
  "orig_nbformat": 4,
  "vscode": {
   "interpreter": {
    "hash": "31f2aee4e71d21fbe5cf8b01ff0e069b9275f58929596ceb00d14d90e3e16cd6"
   }
  }
 },
 "nbformat": 4,
 "nbformat_minor": 2
}
